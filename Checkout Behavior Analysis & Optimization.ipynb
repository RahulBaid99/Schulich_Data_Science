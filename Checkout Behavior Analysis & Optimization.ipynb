{
 "cells": [
  {
   "attachments": {},
   "cell_type": "markdown",
   "metadata": {},
   "source": [
    "Conduct analysis on the provided data to identify the characteristics of users who check out, and those who don't. \n",
    "\n",
    "1) Based on your analysis, what can you conclude about the behaviour or characteristics of users who complete check out vs those who do not?\n",
    "2) How did you prepare your data for analysis? Describe your data cleaning and preparation approaches, and why these were the best choices.\n",
    "3) What recommendations do you have for the product team? What should they do next? Be specific (i.e., who should they target, why and how).\n",
    "\n",
    "Once you're finished, submit your completed notebook with answers to the above questions included in Markdown cells. Your code should be legible, easy to follow, and your answers to the questions should be clear and precise"
   ]
  },
  {
   "cell_type": "code",
   "execution_count": 1,
   "metadata": {},
   "outputs": [],
   "source": [
    "import pandas as pd\n",
    "import numpy as np\n",
    "import seaborn as sns\n"
   ]
  },
  {
   "cell_type": "code",
   "execution_count": 3,
   "metadata": {},
   "outputs": [],
   "source": [
    "df= pd.read_csv(r'C:\\Users\\rahul\\Desktop\\MBAN\\Data Science\\Midterm\\midterm_data.csv')"
   ]
  },
  {
   "cell_type": "code",
   "execution_count": 4,
   "metadata": {},
   "outputs": [
    {
     "data": {
      "text/html": [
       "<div>\n",
       "<style scoped>\n",
       "    .dataframe tbody tr th:only-of-type {\n",
       "        vertical-align: middle;\n",
       "    }\n",
       "\n",
       "    .dataframe tbody tr th {\n",
       "        vertical-align: top;\n",
       "    }\n",
       "\n",
       "    .dataframe thead th {\n",
       "        text-align: right;\n",
       "    }\n",
       "</style>\n",
       "<table border=\"1\" class=\"dataframe\">\n",
       "  <thead>\n",
       "    <tr style=\"text-align: right;\">\n",
       "      <th></th>\n",
       "      <th>userID</th>\n",
       "      <th>age</th>\n",
       "      <th>sessions</th>\n",
       "      <th>time_spent</th>\n",
       "      <th>pages_visited</th>\n",
       "      <th>cart_items</th>\n",
       "      <th>cart_value</th>\n",
       "      <th>checkout_status</th>\n",
       "      <th>device</th>\n",
       "      <th>location</th>\n",
       "    </tr>\n",
       "  </thead>\n",
       "  <tbody>\n",
       "    <tr>\n",
       "      <th>0</th>\n",
       "      <td>1</td>\n",
       "      <td>62</td>\n",
       "      <td>3</td>\n",
       "      <td>13.295129</td>\n",
       "      <td>2</td>\n",
       "      <td>20</td>\n",
       "      <td>199.21</td>\n",
       "      <td>0</td>\n",
       "      <td>Desktop</td>\n",
       "      <td>Location 1</td>\n",
       "    </tr>\n",
       "    <tr>\n",
       "      <th>1</th>\n",
       "      <td>2</td>\n",
       "      <td>65</td>\n",
       "      <td>2</td>\n",
       "      <td>21.686405</td>\n",
       "      <td>3</td>\n",
       "      <td>21</td>\n",
       "      <td>294.82</td>\n",
       "      <td>0</td>\n",
       "      <td>Desktop</td>\n",
       "      <td>Location 3</td>\n",
       "    </tr>\n",
       "    <tr>\n",
       "      <th>2</th>\n",
       "      <td>3</td>\n",
       "      <td>18</td>\n",
       "      <td>7</td>\n",
       "      <td>17.135220</td>\n",
       "      <td>4</td>\n",
       "      <td>23</td>\n",
       "      <td>240.87</td>\n",
       "      <td>0</td>\n",
       "      <td>Desktop</td>\n",
       "      <td>Location 4</td>\n",
       "    </tr>\n",
       "    <tr>\n",
       "      <th>3</th>\n",
       "      <td>4</td>\n",
       "      <td>21</td>\n",
       "      <td>9</td>\n",
       "      <td>29.589311</td>\n",
       "      <td>8</td>\n",
       "      <td>16</td>\n",
       "      <td>183.78</td>\n",
       "      <td>1</td>\n",
       "      <td>Desktop</td>\n",
       "      <td>Location 2</td>\n",
       "    </tr>\n",
       "    <tr>\n",
       "      <th>4</th>\n",
       "      <td>5</td>\n",
       "      <td>21</td>\n",
       "      <td>3</td>\n",
       "      <td>25.948584</td>\n",
       "      <td>4</td>\n",
       "      <td>10</td>\n",
       "      <td>59.51</td>\n",
       "      <td>1</td>\n",
       "      <td>Tablet</td>\n",
       "      <td>Location 4</td>\n",
       "    </tr>\n",
       "  </tbody>\n",
       "</table>\n",
       "</div>"
      ],
      "text/plain": [
       "   userID  age  sessions  time_spent  pages_visited  cart_items  cart_value   \n",
       "0       1   62         3   13.295129              2          20      199.21  \\\n",
       "1       2   65         2   21.686405              3          21      294.82   \n",
       "2       3   18         7   17.135220              4          23      240.87   \n",
       "3       4   21         9   29.589311              8          16      183.78   \n",
       "4       5   21         3   25.948584              4          10       59.51   \n",
       "\n",
       "   checkout_status   device    location  \n",
       "0                0  Desktop  Location 1  \n",
       "1                0  Desktop  Location 3  \n",
       "2                0  Desktop  Location 4  \n",
       "3                1  Desktop  Location 2  \n",
       "4                1   Tablet  Location 4  "
      ]
     },
     "execution_count": 4,
     "metadata": {},
     "output_type": "execute_result"
    }
   ],
   "source": [
    "df.head()"
   ]
  },
  {
   "cell_type": "code",
   "execution_count": 5,
   "metadata": {},
   "outputs": [
    {
     "name": "stdout",
     "output_type": "stream",
     "text": [
      "<class 'pandas.core.frame.DataFrame'>\n",
      "RangeIndex: 5000 entries, 0 to 4999\n",
      "Data columns (total 10 columns):\n",
      " #   Column           Non-Null Count  Dtype  \n",
      "---  ------           --------------  -----  \n",
      " 0   userID           5000 non-null   int64  \n",
      " 1   age              5000 non-null   int64  \n",
      " 2   sessions         5000 non-null   int64  \n",
      " 3   time_spent       5000 non-null   float64\n",
      " 4   pages_visited    5000 non-null   int64  \n",
      " 5   cart_items       5000 non-null   int64  \n",
      " 6   cart_value       5000 non-null   float64\n",
      " 7   checkout_status  5000 non-null   int64  \n",
      " 8   device           4900 non-null   object \n",
      " 9   location         4970 non-null   object \n",
      "dtypes: float64(2), int64(6), object(2)\n",
      "memory usage: 390.8+ KB\n"
     ]
    }
   ],
   "source": [
    "df.info()"
   ]
  },
  {
   "attachments": {},
   "cell_type": "markdown",
   "metadata": {},
   "source": [
    "We have missing data only for Device and Location. Since only 2% of the device data and .6% of the location data is missing, I would fill these missing values with the top values, which is 'Desktop' for device and 'Location 4' for Location."
   ]
  },
  {
   "cell_type": "code",
   "execution_count": 6,
   "metadata": {},
   "outputs": [
    {
     "data": {
      "text/html": [
       "<div>\n",
       "<style scoped>\n",
       "    .dataframe tbody tr th:only-of-type {\n",
       "        vertical-align: middle;\n",
       "    }\n",
       "\n",
       "    .dataframe tbody tr th {\n",
       "        vertical-align: top;\n",
       "    }\n",
       "\n",
       "    .dataframe thead th {\n",
       "        text-align: right;\n",
       "    }\n",
       "</style>\n",
       "<table border=\"1\" class=\"dataframe\">\n",
       "  <thead>\n",
       "    <tr style=\"text-align: right;\">\n",
       "      <th></th>\n",
       "      <th>userID</th>\n",
       "      <th>age</th>\n",
       "      <th>sessions</th>\n",
       "      <th>time_spent</th>\n",
       "      <th>pages_visited</th>\n",
       "      <th>cart_items</th>\n",
       "      <th>cart_value</th>\n",
       "      <th>checkout_status</th>\n",
       "      <th>device</th>\n",
       "      <th>location</th>\n",
       "    </tr>\n",
       "  </thead>\n",
       "  <tbody>\n",
       "    <tr>\n",
       "      <th>count</th>\n",
       "      <td>5000.000000</td>\n",
       "      <td>5000.000000</td>\n",
       "      <td>5000.000000</td>\n",
       "      <td>5000.000000</td>\n",
       "      <td>5000.000000</td>\n",
       "      <td>5000.000000</td>\n",
       "      <td>5000.000000</td>\n",
       "      <td>5000.000000</td>\n",
       "      <td>4900</td>\n",
       "      <td>4970</td>\n",
       "    </tr>\n",
       "    <tr>\n",
       "      <th>unique</th>\n",
       "      <td>NaN</td>\n",
       "      <td>NaN</td>\n",
       "      <td>NaN</td>\n",
       "      <td>NaN</td>\n",
       "      <td>NaN</td>\n",
       "      <td>NaN</td>\n",
       "      <td>NaN</td>\n",
       "      <td>NaN</td>\n",
       "      <td>3</td>\n",
       "      <td>5</td>\n",
       "    </tr>\n",
       "    <tr>\n",
       "      <th>top</th>\n",
       "      <td>NaN</td>\n",
       "      <td>NaN</td>\n",
       "      <td>NaN</td>\n",
       "      <td>NaN</td>\n",
       "      <td>NaN</td>\n",
       "      <td>NaN</td>\n",
       "      <td>NaN</td>\n",
       "      <td>NaN</td>\n",
       "      <td>Desktop</td>\n",
       "      <td>Location 4</td>\n",
       "    </tr>\n",
       "    <tr>\n",
       "      <th>freq</th>\n",
       "      <td>NaN</td>\n",
       "      <td>NaN</td>\n",
       "      <td>NaN</td>\n",
       "      <td>NaN</td>\n",
       "      <td>NaN</td>\n",
       "      <td>NaN</td>\n",
       "      <td>NaN</td>\n",
       "      <td>NaN</td>\n",
       "      <td>2538</td>\n",
       "      <td>1056</td>\n",
       "    </tr>\n",
       "    <tr>\n",
       "      <th>mean</th>\n",
       "      <td>2500.500000</td>\n",
       "      <td>41.538200</td>\n",
       "      <td>5.027200</td>\n",
       "      <td>25.158496</td>\n",
       "      <td>5.774400</td>\n",
       "      <td>14.966400</td>\n",
       "      <td>149.443146</td>\n",
       "      <td>0.272400</td>\n",
       "      <td>NaN</td>\n",
       "      <td>NaN</td>\n",
       "    </tr>\n",
       "    <tr>\n",
       "      <th>std</th>\n",
       "      <td>1443.520003</td>\n",
       "      <td>14.042734</td>\n",
       "      <td>2.594958</td>\n",
       "      <td>9.825536</td>\n",
       "      <td>2.570842</td>\n",
       "      <td>6.046336</td>\n",
       "      <td>68.711683</td>\n",
       "      <td>0.445239</td>\n",
       "      <td>NaN</td>\n",
       "      <td>NaN</td>\n",
       "    </tr>\n",
       "    <tr>\n",
       "      <th>min</th>\n",
       "      <td>1.000000</td>\n",
       "      <td>18.000000</td>\n",
       "      <td>1.000000</td>\n",
       "      <td>1.000000</td>\n",
       "      <td>1.000000</td>\n",
       "      <td>5.000000</td>\n",
       "      <td>20.410000</td>\n",
       "      <td>0.000000</td>\n",
       "      <td>NaN</td>\n",
       "      <td>NaN</td>\n",
       "    </tr>\n",
       "    <tr>\n",
       "      <th>25%</th>\n",
       "      <td>1250.750000</td>\n",
       "      <td>29.000000</td>\n",
       "      <td>3.000000</td>\n",
       "      <td>18.268862</td>\n",
       "      <td>4.000000</td>\n",
       "      <td>10.000000</td>\n",
       "      <td>92.482500</td>\n",
       "      <td>0.000000</td>\n",
       "      <td>NaN</td>\n",
       "      <td>NaN</td>\n",
       "    </tr>\n",
       "    <tr>\n",
       "      <th>50%</th>\n",
       "      <td>2500.500000</td>\n",
       "      <td>42.000000</td>\n",
       "      <td>5.000000</td>\n",
       "      <td>25.035361</td>\n",
       "      <td>6.000000</td>\n",
       "      <td>15.000000</td>\n",
       "      <td>143.440000</td>\n",
       "      <td>0.000000</td>\n",
       "      <td>NaN</td>\n",
       "      <td>NaN</td>\n",
       "    </tr>\n",
       "    <tr>\n",
       "      <th>75%</th>\n",
       "      <td>3750.250000</td>\n",
       "      <td>54.000000</td>\n",
       "      <td>7.000000</td>\n",
       "      <td>32.000361</td>\n",
       "      <td>8.000000</td>\n",
       "      <td>20.000000</td>\n",
       "      <td>198.380000</td>\n",
       "      <td>1.000000</td>\n",
       "      <td>NaN</td>\n",
       "      <td>NaN</td>\n",
       "    </tr>\n",
       "    <tr>\n",
       "      <th>max</th>\n",
       "      <td>5000.000000</td>\n",
       "      <td>65.000000</td>\n",
       "      <td>9.000000</td>\n",
       "      <td>90.000000</td>\n",
       "      <td>12.000000</td>\n",
       "      <td>25.000000</td>\n",
       "      <td>427.400000</td>\n",
       "      <td>1.000000</td>\n",
       "      <td>NaN</td>\n",
       "      <td>NaN</td>\n",
       "    </tr>\n",
       "  </tbody>\n",
       "</table>\n",
       "</div>"
      ],
      "text/plain": [
       "             userID          age     sessions   time_spent  pages_visited   \n",
       "count   5000.000000  5000.000000  5000.000000  5000.000000    5000.000000  \\\n",
       "unique          NaN          NaN          NaN          NaN            NaN   \n",
       "top             NaN          NaN          NaN          NaN            NaN   \n",
       "freq            NaN          NaN          NaN          NaN            NaN   \n",
       "mean    2500.500000    41.538200     5.027200    25.158496       5.774400   \n",
       "std     1443.520003    14.042734     2.594958     9.825536       2.570842   \n",
       "min        1.000000    18.000000     1.000000     1.000000       1.000000   \n",
       "25%     1250.750000    29.000000     3.000000    18.268862       4.000000   \n",
       "50%     2500.500000    42.000000     5.000000    25.035361       6.000000   \n",
       "75%     3750.250000    54.000000     7.000000    32.000361       8.000000   \n",
       "max     5000.000000    65.000000     9.000000    90.000000      12.000000   \n",
       "\n",
       "         cart_items   cart_value  checkout_status   device    location  \n",
       "count   5000.000000  5000.000000      5000.000000     4900        4970  \n",
       "unique          NaN          NaN              NaN        3           5  \n",
       "top             NaN          NaN              NaN  Desktop  Location 4  \n",
       "freq            NaN          NaN              NaN     2538        1056  \n",
       "mean      14.966400   149.443146         0.272400      NaN         NaN  \n",
       "std        6.046336    68.711683         0.445239      NaN         NaN  \n",
       "min        5.000000    20.410000         0.000000      NaN         NaN  \n",
       "25%       10.000000    92.482500         0.000000      NaN         NaN  \n",
       "50%       15.000000   143.440000         0.000000      NaN         NaN  \n",
       "75%       20.000000   198.380000         1.000000      NaN         NaN  \n",
       "max       25.000000   427.400000         1.000000      NaN         NaN  "
      ]
     },
     "execution_count": 6,
     "metadata": {},
     "output_type": "execute_result"
    }
   ],
   "source": [
    "df.describe(include='all')"
   ]
  },
  {
   "attachments": {},
   "cell_type": "markdown",
   "metadata": {},
   "source": [
    "Before filling, let's check if there are any rows in which both these columns have missing values"
   ]
  },
  {
   "cell_type": "code",
   "execution_count": 9,
   "metadata": {},
   "outputs": [
    {
     "data": {
      "text/html": [
       "<div>\n",
       "<style scoped>\n",
       "    .dataframe tbody tr th:only-of-type {\n",
       "        vertical-align: middle;\n",
       "    }\n",
       "\n",
       "    .dataframe tbody tr th {\n",
       "        vertical-align: top;\n",
       "    }\n",
       "\n",
       "    .dataframe thead th {\n",
       "        text-align: right;\n",
       "    }\n",
       "</style>\n",
       "<table border=\"1\" class=\"dataframe\">\n",
       "  <thead>\n",
       "    <tr style=\"text-align: right;\">\n",
       "      <th></th>\n",
       "      <th>userID</th>\n",
       "      <th>age</th>\n",
       "      <th>sessions</th>\n",
       "      <th>time_spent</th>\n",
       "      <th>pages_visited</th>\n",
       "      <th>cart_items</th>\n",
       "      <th>cart_value</th>\n",
       "      <th>checkout_status</th>\n",
       "      <th>device</th>\n",
       "      <th>location</th>\n",
       "    </tr>\n",
       "  </thead>\n",
       "  <tbody>\n",
       "    <tr>\n",
       "      <th>2130</th>\n",
       "      <td>2131</td>\n",
       "      <td>20</td>\n",
       "      <td>5</td>\n",
       "      <td>21.841304</td>\n",
       "      <td>6</td>\n",
       "      <td>19</td>\n",
       "      <td>243.39</td>\n",
       "      <td>0</td>\n",
       "      <td>NaN</td>\n",
       "      <td>NaN</td>\n",
       "    </tr>\n",
       "  </tbody>\n",
       "</table>\n",
       "</div>"
      ],
      "text/plain": [
       "      userID  age  sessions  time_spent  pages_visited  cart_items   \n",
       "2130    2131   20         5   21.841304              6          19  \\\n",
       "\n",
       "      cart_value  checkout_status device location  \n",
       "2130      243.39                0    NaN      NaN  "
      ]
     },
     "execution_count": 9,
     "metadata": {},
     "output_type": "execute_result"
    }
   ],
   "source": [
    "df[df['device'].isnull() & df['location'].isnull()]"
   ]
  },
  {
   "cell_type": "code",
   "execution_count": 10,
   "metadata": {},
   "outputs": [],
   "source": [
    "#lets drop this row\n",
    "df.drop(df[df['device'].isnull() & df['location'].isnull()].index, axis=0, inplace=True)"
   ]
  },
  {
   "cell_type": "code",
   "execution_count": 11,
   "metadata": {},
   "outputs": [],
   "source": [
    "#Let's fill the remaining with the top values\n",
    "df['device'] = df['device'].fillna('Desktop')"
   ]
  },
  {
   "cell_type": "code",
   "execution_count": 12,
   "metadata": {},
   "outputs": [],
   "source": [
    "#Let's fill the remaining with the top values\n",
    "df['location'] = df['location'].fillna('Location 4')"
   ]
  },
  {
   "cell_type": "code",
   "execution_count": 13,
   "metadata": {},
   "outputs": [
    {
     "name": "stdout",
     "output_type": "stream",
     "text": [
      "<class 'pandas.core.frame.DataFrame'>\n",
      "Index: 4999 entries, 0 to 4999\n",
      "Data columns (total 10 columns):\n",
      " #   Column           Non-Null Count  Dtype  \n",
      "---  ------           --------------  -----  \n",
      " 0   userID           4999 non-null   int64  \n",
      " 1   age              4999 non-null   int64  \n",
      " 2   sessions         4999 non-null   int64  \n",
      " 3   time_spent       4999 non-null   float64\n",
      " 4   pages_visited    4999 non-null   int64  \n",
      " 5   cart_items       4999 non-null   int64  \n",
      " 6   cart_value       4999 non-null   float64\n",
      " 7   checkout_status  4999 non-null   int64  \n",
      " 8   device           4999 non-null   object \n",
      " 9   location         4999 non-null   object \n",
      "dtypes: float64(2), int64(6), object(2)\n",
      "memory usage: 429.6+ KB\n"
     ]
    }
   ],
   "source": [
    "df.info()"
   ]
  },
  {
   "cell_type": "code",
   "execution_count": 20,
   "metadata": {},
   "outputs": [],
   "source": [
    "df.drop_duplicates(inplace=True)"
   ]
  },
  {
   "attachments": {},
   "cell_type": "markdown",
   "metadata": {},
   "source": [
    "Drop duplicates, if any"
   ]
  },
  {
   "cell_type": "code",
   "execution_count": 21,
   "metadata": {},
   "outputs": [
    {
     "name": "stdout",
     "output_type": "stream",
     "text": [
      "<class 'pandas.core.frame.DataFrame'>\n",
      "Index: 4999 entries, 0 to 4999\n",
      "Data columns (total 10 columns):\n",
      " #   Column           Non-Null Count  Dtype  \n",
      "---  ------           --------------  -----  \n",
      " 0   userID           4999 non-null   int64  \n",
      " 1   age              4999 non-null   int64  \n",
      " 2   sessions         4999 non-null   int64  \n",
      " 3   time_spent       4999 non-null   float64\n",
      " 4   pages_visited    4999 non-null   int64  \n",
      " 5   cart_items       4999 non-null   int64  \n",
      " 6   cart_value       4999 non-null   float64\n",
      " 7   checkout_status  4999 non-null   int64  \n",
      " 8   device           4999 non-null   object \n",
      " 9   location         4999 non-null   object \n",
      "dtypes: float64(2), int64(6), object(2)\n",
      "memory usage: 429.6+ KB\n"
     ]
    }
   ],
   "source": [
    "df.info()"
   ]
  },
  {
   "cell_type": "code",
   "execution_count": 49,
   "metadata": {},
   "outputs": [
    {
     "data": {
      "image/png": "[encoded data removed]",
      "text/plain": [
       "<Figure size 640x480 with 1 Axes>"
      ]
     },
     "metadata": {},
     "output_type": "display_data"
    }
   ],
   "source": [
    "\n",
    "import matplotlib.pyplot as plt\n",
    "sns.countplot(data=df, x='location', hue='checkout_status')\n",
    "\n",
    "# Adding labels and title to the plot\n",
    "plt.xlabel('lLocation')\n",
    "plt.ylabel('Count')\n",
    "plt.title('Checkout Status by Location')\n",
    "\n",
    "# Displaying the plot\n",
    "plt.show()"
   ]
  },
  {
   "attachments": {},
   "cell_type": "markdown",
   "metadata": {},
   "source": [
    "Since checkout_status for all the location is equivalent, we can make suggestion based on location, let's try some stats testing "
   ]
  },
  {
   "cell_type": "code",
   "execution_count": 24,
   "metadata": {},
   "outputs": [],
   "source": [
    "# 1) Characteristics of users who complete check out vs those who do not\n",
    "checkout_users = df[df['checkout_status'] == 1]\n",
    "non_checkout_users = df[df['checkout_status'] == 0]\n",
    "\n",
    "checkout_age_mean = checkout_users['age'].mean()\n",
    "non_checkout_age_mean = non_checkout_users['age'].mean()\n",
    "\n",
    "checkout_sessions_mean = checkout_users['sessions'].mean()\n",
    "non_checkout_sessions_mean = non_checkout_users['sessions'].mean()\n",
    "\n",
    "checkout_time_spent_mean = checkout_users['time_spent'].mean()\n",
    "non_checkout_time_spent_mean = non_checkout_users['time_spent'].mean()\n",
    "\n",
    "checkout_pages_visited_mean = checkout_users['pages_visited'].mean()\n",
    "non_checkout_pages_visited_mean = non_checkout_users['pages_visited'].mean()\n",
    "\n",
    "checkout_cart_items_mean = checkout_users['cart_items'].mean()\n",
    "non_checkout_cart_items_mean = non_checkout_users['cart_items'].mean()\n",
    "\n",
    "checkout_cart_value_mean = checkout_users['cart_value'].mean()\n",
    "non_checkout_cart_value_mean = non_checkout_users['cart_value'].mean()"
   ]
  },
  {
   "cell_type": "code",
   "execution_count": 25,
   "metadata": {},
   "outputs": [
    {
     "name": "stdout",
     "output_type": "stream",
     "text": [
      "Checkout Users:\n",
      "  Average Age:             41.33\n",
      "  Average Sessions:        4.94\n",
      "  Average Time Spent:      31.32\n",
      "  Average Pages Visited:   7.29\n",
      "  Average Cart Items:      14.12\n",
      "  Average Cart Value:      140.82\n",
      "\n",
      "Non-Checkout Users:\n",
      "  Average Age:             41.62\n",
      "  Average Sessions:        5.06\n",
      "  Average Time Spent:      22.85\n",
      "  Average Pages Visited:   5.21\n",
      "  Average Cart Items:      15.28\n",
      "  Average Cart Value:      152.64\n"
     ]
    }
   ],
   "source": [
    "print(\"Checkout Users:\")\n",
    "print(\"  Average Age:             {:.2f}\".format(checkout_age_mean))\n",
    "print(\"  Average Sessions:        {:.2f}\".format(checkout_sessions_mean))\n",
    "print(\"  Average Time Spent:      {:.2f}\".format(checkout_time_spent_mean))\n",
    "print(\"  Average Pages Visited:   {:.2f}\".format(checkout_pages_visited_mean))\n",
    "print(\"  Average Cart Items:      {:.2f}\".format(checkout_cart_items_mean))\n",
    "print(\"  Average Cart Value:      {:.2f}\".format(checkout_cart_value_mean))\n",
    "\n",
    "print(\"\\nNon-Checkout Users:\")\n",
    "print(\"  Average Age:             {:.2f}\".format(non_checkout_age_mean))\n",
    "print(\"  Average Sessions:        {:.2f}\".format(non_checkout_sessions_mean))\n",
    "print(\"  Average Time Spent:      {:.2f}\".format(non_checkout_time_spent_mean))\n",
    "print(\"  Average Pages Visited:   {:.2f}\".format(non_checkout_pages_visited_mean))\n",
    "print(\"  Average Cart Items:      {:.2f}\".format(non_checkout_cart_items_mean))\n",
    "print(\"  Average Cart Value:      {:.2f}\".format(non_checkout_cart_value_mean))"
   ]
  },
  {
   "attachments": {},
   "cell_type": "markdown",
   "metadata": {},
   "source": [
    "Just from getting the mean, we can see that average Time spent can be an important factor to for checkout status. We'll do some testing."
   ]
  },
  {
   "cell_type": "code",
   "execution_count": 32,
   "metadata": {},
   "outputs": [
    {
     "name": "stdout",
     "output_type": "stream",
     "text": [
      "Pearson's correlation: 0.38358247864419615\n",
      "P-value: 5.914986101148577e-175\n"
     ]
    }
   ],
   "source": [
    "from scipy import stats\n",
    "from scipy.stats import pearsonr\n",
    "\n",
    "pearson_corr, p_val = stats.pearsonr(df['checkout_status'], df['time_spent'])\n",
    "\n",
    "print(f\"Pearson's correlation: {pearson_corr}\")\n",
    "print(f\"P-value: {p_val}\")"
   ]
  },
  {
   "attachments": {},
   "cell_type": "markdown",
   "metadata": {},
   "source": [
    "The Pearson correlation coefficient between 'checkout_status' and 'time_spent' is 0.384, and the p-value is extremely small (approximately 5.915e-175).\n",
    "\n",
    "Based on these results:\n",
    "\n",
    "The correlation coefficient of 0.384 indicates a positive correlation between 'checkout_status' and 'time_spent'. However, the strength of the correlation is moderate.\n",
    "The p-value being close to zero suggests that the observed correlation is statistically significant.\n",
    "\n",
    "\n",
    "In summary, there is a moderate positive correlation between 'checkout_status' and 'time_spent', and this correlation is statistically significant. It implies that as 'time_spent' increases, the likelihood of 'checkout_status' being positive (1) also tends to increase."
   ]
  },
  {
   "attachments": {},
   "cell_type": "markdown",
   "metadata": {},
   "source": [
    "From the P-value and the pearson' correlation we can say that time-spent is closely related to checkout_status. Let's check for other variables."
   ]
  },
  {
   "cell_type": "code",
   "execution_count": 41,
   "metadata": {},
   "outputs": [
    {
     "name": "stdout",
     "output_type": "stream",
     "text": [
      "Pearson's correlation between checkout_status and age: -0.009437567874991143\n",
      "P-value: 0.5046967171568824\n",
      "Pearson's correlation between checkout_status and Sessions: -0.019920969858695806\n",
      "P-value: 0.15905056686572647\n",
      "Pearson's correlation between checkout_status and pages_visited: 0.3602566910945144\n",
      "P-value: 4.49250940875037e-153\n",
      "Pearson's correlation between checkout_status and cart_items: -0.0855449069824046\n",
      "P-value: 1.3788633610632458e-09\n",
      "Pearson's correlation between checkout_status and cart_values: -0.0766078006415144\n",
      "P-value: 5.8586095594179994e-08\n"
     ]
    }
   ],
   "source": [
    "from scipy import stats\n",
    "from scipy.stats import pearsonr\n",
    "\n",
    "pearson_corr_age, p_val_age = stats.pearsonr(df['checkout_status'], df['age'])\n",
    "print(f\"Pearson's correlation between checkout_status and age: {pearson_corr_age}\")\n",
    "print(f\"P-value: {p_val_age}\")\n",
    "\n",
    "# Calculate Pearson correlation and p-value for Sessions\n",
    "pearson_corr_sessions, p_val_sessions = stats.pearsonr(df['checkout_status'], df['sessions'])\n",
    "print(f\"Pearson's correlation between checkout_status and Sessions: {pearson_corr_sessions}\")\n",
    "print(f\"P-value: {p_val_sessions}\")\n",
    "\n",
    "# Calculate Pearson correlation and p-value for pages_visited\n",
    "pearson_corr_pages_visited, p_val_pages_visited = stats.pearsonr(df['checkout_status'], df['pages_visited'])\n",
    "print(f\"Pearson's correlation between checkout_status and pages_visited: {pearson_corr_pages_visited}\")\n",
    "print(f\"P-value: {p_val_pages_visited}\")\n",
    "\n",
    "# Calculate Pearson correlation and p-value for cart_items\n",
    "pearson_corr_cart_items, p_val_cart_items = stats.pearsonr(df['checkout_status'], df['cart_items'])\n",
    "print(f\"Pearson's correlation between checkout_status and cart_items: {pearson_corr_cart_items}\")\n",
    "print(f\"P-value: {p_val_cart_items}\")\n",
    "\n",
    "# Calculate Pearson correlation and p-value for cart_values\n",
    "pearson_corr_cart_values, p_val_cart_values = stats.pearsonr(df['checkout_status'], df['cart_value'])\n",
    "print(f\"Pearson's correlation between checkout_status and cart_values: {pearson_corr_cart_values}\")\n",
    "print(f\"P-value: {p_val_cart_values}\")"
   ]
  },
  {
   "attachments": {},
   "cell_type": "markdown",
   "metadata": {},
   "source": [
    "Based on the results:\n",
    "\n",
    "1) The correlation coefficient between 'checkout_status' and 'age' is -0.009, indicating a very weak negative correlation. The p-value is 0.505. Therefore, there is no significant correlation between 'checkout_status' and 'age'.\n",
    "\n",
    "2) The correlation coefficient between 'checkout_status' and 'Sessions' is -0.020, indicating a very weak negative correlation. The p-value is 0.159, which is greater than 0.05. Similar to the previous case, there is no significant correlation between 'checkout_status' and 'Sessions'.\n",
    "\n",
    "3) The correlation coefficient between 'checkout_status' and 'pages_visited' is 0.360, indicating a moderate positive correlation. The p-value is extremely small (approximately 4.49e-153), well below the significance level. Therefore, there is a significant correlation between 'checkout_status' and 'pages_visited', suggesting that users who visit more pages are more likely to proceed to the checkout.\n",
    "\n",
    "4) The correlation coefficient between 'checkout_status' and 'cart_items' is -0.086, indicating a weak negative correlation. The p-value is very small (approximately 1.38e-09), indicating a significant correlation. This suggests that there is a relationship between 'checkout_status' and the number of items in the cart, with a negative correlation indicating that users with fewer cart items are more likely to proceed to checkout.\n",
    "\n",
    "5) The correlation coefficient between 'checkout_status' and 'cart_values' is -0.077, indicating a weak negative correlation. The p-value is also small (approximately 5.86e-08), indicating a significant correlation. This suggests that there is a relationship between 'checkout_status' and the value of items in the cart, with a negative correlation indicating that users with lower cart values are more likely to proceed to checkout.\n",
    "\n",
    "Overall, the analysis shows that the 'pages_visited', 'cart_items', and 'cart_values' variables have significant correlations with the 'checkout_status'. However, 'age' and 'Sessions' do not exhibit a significant correlation with 'checkout_status' based on the provided results."
   ]
  },
  {
   "attachments": {},
   "cell_type": "markdown",
   "metadata": {},
   "source": [
    "1) Based on your analysis, what can you conclude about the behaviour or characteristics of users who complete check out vs those who do not?\n",
    "\n",
    "1) Based on my analysis I would like to concule the following:\n",
    "\n",
    "    i) Users who complete checkout tends to spend significantly more time than user who don't checkout.\n",
    "\n",
    "    ii) Users who visit more pages are more likely to proceed to the checkout.\n",
    "\n",
    "    iii) Users with fewer cart items are more likely to proceed to checkout.\n",
    "\n",
    "    iv) Users with lower cart values are more likely to proceed to checkout"
   ]
  },
  {
   "attachments": {},
   "cell_type": "markdown",
   "metadata": {},
   "source": [
    "\n",
    "2) How did you prepare your data for analysis? Describe your data cleaning and preparation approaches, and why these were the best choices.\n",
    "\n",
    "I prepared my data for analysis in the following way:\n",
    "\n",
    "    i) After loading the datasets, I looked for various data types in the set. \n",
    "\n",
    "    ii) I looked for missing values, since the number was very small I filled it with the top values.\n",
    "\n",
    "    iii) I looked for duplicates, but there wasn't any.\n",
    "\n",
    "    iv) I tried to establish a relation visually between checout status and location, but couldn't determine any significant relation.\n",
    "\n",
    "    V) Lastly I used T-statistics and P-value to analyze the data and conclude with my findings."
   ]
  },
  {
   "attachments": {},
   "cell_type": "markdown",
   "metadata": {},
   "source": [
    "\n",
    "3) What recommendations do you have for the product team? What should they do next? Be specific (i.e., who should they target, why and how).\n",
    "\n",
    "Since mean for both checkout users and non-checout users is 41, I would recommend targetting these people and try to enage more in our website so that they spent more time on it, and so they will tend to spend more.\n",
    "\n",
    "They can do so my introducing a wide range of offers for people of certain age groups (Above 40)."
   ]
  }
 ],
 "metadata": {
  "kernelspec": {
   "display_name": "Python 3",
   "language": "python",
   "name": "python3"
  },
  "language_info": {
   "codemirror_mode": {
    "name": "ipython",
    "version": 3
   },
   "file_extension": ".py",
   "mimetype": "text/x-python",
   "name": "python",
   "nbconvert_exporter": "python",
   "pygments_lexer": "ipython3",
   "version": "3.11.3"
  },
  "orig_nbformat": 4
 },
 "nbformat": 4,
 "nbformat_minor": 2
}
